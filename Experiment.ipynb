{
 "cells": [
  {
   "cell_type": "code",
   "execution_count": 12,
   "metadata": {},
   "outputs": [],
   "source": [
    "from FORM import FORM, PROP\n",
    "from cnf_io import read_cnf_file\n",
    "from variable import reset_calls, increment_calls, value_calls\n",
    "from sat_solver import naive_solve, tree_solve_random, tree_solve\n",
    "import threading\n",
    "import matplotlib.pyplot as plt\n",
    "import random\n",
    "import time\n",
    "import csv\n",
    "import func_timeout\n",
    "import os\n"
   ]
  },
  {
   "cell_type": "markdown",
   "metadata": {},
   "source": [
    "create code to randomly add cnf clauses to file"
   ]
  },
  {
   "cell_type": "code",
   "execution_count": 3,
   "metadata": {},
   "outputs": [],
   "source": [
    "def add_clauses(clauses, file_path):\n",
    "  \"\"\"\n",
    "  Adds clauses to a dimacs cnf file.\n",
    "\n",
    "  Args:\n",
    "    clauses: number of 3-cnf clauses to add\n",
    "    file_path: path to the file to add clauses to\n",
    "  \"\"\"\n",
    "\n",
    "  # Read the entire CNF file into memory.\n",
    "  with open(file_path, \"r\") as f:\n",
    "    lines = f.readlines()\n",
    "\n",
    "  # Get the number of variables and clauses in the CNF file.\n",
    "  first_line = lines[0]\n",
    "  words = first_line.split()\n",
    "  num_vars = int(words[2])\n",
    "  num_clauses = int(words[3])\n",
    "\n",
    "  # Update the number of clauses in the first line of the CNF file.\n",
    "  num_clauses += clauses\n",
    "  updated_first_line = \"p cnf {} {}\\n\".format(num_vars, num_clauses)\n",
    "\n",
    "  # Replace the original first line with the updated first line.\n",
    "  lines[0] = updated_first_line\n",
    "\n",
    "  # Add the new clauses to the CNF file in memory.\n",
    "  for i in range(clauses):\n",
    "    # Generate a random 3-clause.\n",
    "    clause = [random.randint(-num_vars, num_vars) for _ in range(3)]\n",
    "\n",
    "    # Check for zeros and replace with non-zeros.\n",
    "    for j in range(3):\n",
    "      if clause[j] == 0:\n",
    "        clause[j] = 1 if random.random() < 0.5 else -1\n",
    "\n",
    "    # Add the clause to the CNF file in memory.\n",
    "    lines.append(\" \".join(map(str, clause)) + \" 0\\n\")\n",
    "\n",
    "  # Write the updated CNF file back to the file system.\n",
    "  with open(file_path, \"w\") as f:\n",
    "    f.writelines(lines)\n"
   ]
  },
  {
   "cell_type": "code",
   "execution_count": 4,
   "metadata": {},
   "outputs": [],
   "source": [
    "add_clauses(500,'Experiment/example_1_file.cnf')"
   ]
  },
  {
   "cell_type": "code",
   "execution_count": 5,
   "metadata": {},
   "outputs": [],
   "source": [
    "def create_cnf(prop_num, clause_num, file_name):\n",
    "  \"\"\"Creates a CNF file with the given number of variables and clauses.\n",
    "\n",
    "  Args:\n",
    "    prop_num: The number of variables in the CNF file.\n",
    "    clause_num: The number of clauses in the CNF file.\n",
    "    file_name: The name of the CNF file to create.\n",
    "  \"\"\"\n",
    "\n",
    "  # Create the folder if it doesn't exist\n",
    "  folder_path = os.path.dirname(file_name)\n",
    "  if not os.path.exists(folder_path):\n",
    "    os.makedirs(folder_path)\n",
    "\n",
    "  # Create the CNF file\n",
    "  with open(file_name, \"w\") as f:\n",
    "    # Write the problem line in the DIMACS format\n",
    "    f.write(f\"p cnf {prop_num} {clause_num}\\n\")\n",
    "\n",
    "    # Add random clauses\n",
    "    for i in range(clause_num):\n",
    "      clause = [random.randint(-prop_num, prop_num) for _ in range(3)]\n",
    "\n",
    "      # Check for zeros and replace with non-zeros\n",
    "      for j in range(3):\n",
    "        if clause[j] == 0:\n",
    "          clause[j] = 1 if random.random() < 0.5 else -1\n",
    "\n",
    "      # Add clause to file\n",
    "      f.write(\" \".join(map(str, clause)) + \" 0\\n\")\n"
   ]
  },
  {
   "cell_type": "code",
   "execution_count": 6,
   "metadata": {},
   "outputs": [],
   "source": [
    "create_cnf(50,50,'Experiment/example_1_file.cnf')"
   ]
  },
  {
   "cell_type": "markdown",
   "metadata": {},
   "source": [
    "run an experiment that compares the different heuristics over differing numbers of clauses and propositions. Experiment will initially be run for 3-cnf formulas and be saved to text files to keep the data safe while it is running."
   ]
  },
  {
   "cell_type": "markdown",
   "metadata": {},
   "source": [
    "create experiment for no heuristic solve"
   ]
  },
  {
   "cell_type": "code",
   "execution_count": 7,
   "metadata": {},
   "outputs": [
    {
     "name": "stdout",
     "output_type": "stream",
     "text": [
      "cnf_3_clauses_10_props_5.cnf\n"
     ]
    }
   ],
   "source": [
    "print(f\"cnf_3_clauses_{10}_props_{5}.cnf\")"
   ]
  },
  {
   "cell_type": "code",
   "execution_count": 8,
   "metadata": {},
   "outputs": [],
   "source": [
    "def output_tuple_to_csv(tuple, csv_file_name):\n",
    "  \"\"\"Outputs a tuple to a CSV file, creating the file and folder if necessary.\n",
    "\n",
    "  Args:\n",
    "    tuple: A tuple of strings to be output to the CSV file.\n",
    "    csv_file_name: The name of the CSV file to output to.\n",
    "  \"\"\"\n",
    "\n",
    "  # Create the folder if it doesn't exist\n",
    "  folder_path = os.path.dirname(csv_file_name)\n",
    "  if not os.path.exists(folder_path):\n",
    "    os.makedirs(folder_path)\n",
    "\n",
    "  # Create the CSV file if it doesn't exist\n",
    "  if not os.path.exists(csv_file_name):\n",
    "    with open(csv_file_name, \"w\", newline=\"\") as f:\n",
    "      writer = csv.writer(f)\n",
    "\n",
    "  # Open the CSV file in append mode\n",
    "  with open(csv_file_name, \"a\", newline=\"\") as f:\n",
    "    writer = csv.writer(f)\n",
    "\n",
    "    # Write the tuple to the CSV file\n",
    "    writer.writerow(tuple)"
   ]
  },
  {
   "cell_type": "code",
   "execution_count": 9,
   "metadata": {},
   "outputs": [
    {
     "data": {
      "text/plain": [
       "1"
      ]
     },
     "execution_count": 9,
     "metadata": {},
     "output_type": "execute_result"
    }
   ],
   "source": [
    "reset_calls()\n",
    "increment_calls()\n",
    "increment_calls()\n",
    "increment_calls()\n",
    "value_calls()\n",
    "reset_calls()\n",
    "value_calls()\n",
    "increment_calls()\n",
    "value_calls()"
   ]
  },
  {
   "cell_type": "code",
   "execution_count": 10,
   "metadata": {},
   "outputs": [
    {
     "data": {
      "text/plain": [
       "7"
      ]
     },
     "execution_count": 10,
     "metadata": {},
     "output_type": "execute_result"
    }
   ],
   "source": [
    "create_cnf(5,11,\"Experiment/formulas/cnf_3_props_11.cnf\")\n",
    "formula = read_cnf_file(\"Experiment/formulas/cnf_3_props_11.cnf\")\n",
    "reset_calls()\n",
    "tree_solve(formula)\n",
    "value_calls()"
   ]
  },
  {
   "cell_type": "code",
   "execution_count": 11,
   "metadata": {},
   "outputs": [],
   "source": [
    "output_tuple_to_csv(('file name', 'propositions', 'clauses','solve time'),'Experiment/experiment_testing.csv')"
   ]
  },
  {
   "cell_type": "code",
   "execution_count": 15,
   "metadata": {},
   "outputs": [
    {
     "name": "stdout",
     "output_type": "stream",
     "text": [
      "0\n"
     ]
    },
    {
     "ename": "TypeError",
     "evalue": "'>' not supported between instances of 'int' and 'dict'",
     "output_type": "error",
     "traceback": [
      "\u001b[1;31m---------------------------------------------------------------------------\u001b[0m",
      "\u001b[1;31mTypeError\u001b[0m                                 Traceback (most recent call last)",
      "\u001b[1;32m~\\AppData\\Local\\Temp\\ipykernel_812\\3844806912.py\u001b[0m in \u001b[0;36m<module>\u001b[1;34m\u001b[0m\n\u001b[0;32m     16\u001b[0m             \u001b[0mreset_calls\u001b[0m\u001b[1;33m(\u001b[0m\u001b[1;33m)\u001b[0m\u001b[1;33m\u001b[0m\u001b[1;33m\u001b[0m\u001b[0m\n\u001b[0;32m     17\u001b[0m             \u001b[0mstart\u001b[0m \u001b[1;33m=\u001b[0m \u001b[0mtime\u001b[0m\u001b[1;33m.\u001b[0m\u001b[0mtime\u001b[0m\u001b[1;33m(\u001b[0m\u001b[1;33m)\u001b[0m\u001b[1;33m\u001b[0m\u001b[1;33m\u001b[0m\u001b[0m\n\u001b[1;32m---> 18\u001b[1;33m             \u001b[0msolution\u001b[0m \u001b[1;33m=\u001b[0m \u001b[0mfunc_timeout\u001b[0m\u001b[1;33m.\u001b[0m\u001b[0mfunc_timeout\u001b[0m\u001b[1;33m(\u001b[0m\u001b[0mtree_solve\u001b[0m\u001b[1;33m(\u001b[0m\u001b[0mformula\u001b[0m\u001b[1;33m,\u001b[0m \u001b[0munit_preference\u001b[0m\u001b[1;33m=\u001b[0m\u001b[1;32mTrue\u001b[0m\u001b[1;33m)\u001b[0m\u001b[1;33m,\u001b[0m \u001b[1;36m30\u001b[0m\u001b[1;33m)\u001b[0m\u001b[1;33m\u001b[0m\u001b[1;33m\u001b[0m\u001b[0m\n\u001b[0m\u001b[0;32m     19\u001b[0m             \u001b[0mend\u001b[0m \u001b[1;33m=\u001b[0m \u001b[0mtime\u001b[0m\u001b[1;33m.\u001b[0m\u001b[0mtime\u001b[0m\u001b[1;33m(\u001b[0m\u001b[1;33m)\u001b[0m\u001b[1;33m\u001b[0m\u001b[1;33m\u001b[0m\u001b[0m\n\u001b[0;32m     20\u001b[0m             \u001b[0mcalls\u001b[0m \u001b[1;33m=\u001b[0m \u001b[0mvalue_calls\u001b[0m\u001b[1;33m(\u001b[0m\u001b[1;33m)\u001b[0m\u001b[1;33m\u001b[0m\u001b[1;33m\u001b[0m\u001b[0m\n",
      "\u001b[1;32mc:\\Users\\20gam\\anaconda3\\envs\\ai_env\\lib\\site-packages\\func_timeout\\dafunc.py\u001b[0m in \u001b[0;36mfunc_timeout\u001b[1;34m(timeout, func, args, kwargs)\u001b[0m\n\u001b[0;32m     84\u001b[0m \u001b[1;33m\u001b[0m\u001b[0m\n\u001b[0;32m     85\u001b[0m     \u001b[0mthread\u001b[0m\u001b[1;33m.\u001b[0m\u001b[0mstart\u001b[0m\u001b[1;33m(\u001b[0m\u001b[1;33m)\u001b[0m\u001b[1;33m\u001b[0m\u001b[1;33m\u001b[0m\u001b[0m\n\u001b[1;32m---> 86\u001b[1;33m     \u001b[0mthread\u001b[0m\u001b[1;33m.\u001b[0m\u001b[0mjoin\u001b[0m\u001b[1;33m(\u001b[0m\u001b[0mtimeout\u001b[0m\u001b[1;33m)\u001b[0m\u001b[1;33m\u001b[0m\u001b[1;33m\u001b[0m\u001b[0m\n\u001b[0m\u001b[0;32m     87\u001b[0m \u001b[1;33m\u001b[0m\u001b[0m\n\u001b[0;32m     88\u001b[0m     \u001b[0mstopException\u001b[0m \u001b[1;33m=\u001b[0m \u001b[1;32mNone\u001b[0m\u001b[1;33m\u001b[0m\u001b[1;33m\u001b[0m\u001b[0m\n",
      "\u001b[1;32mc:\\Users\\20gam\\anaconda3\\envs\\ai_env\\lib\\threading.py\u001b[0m in \u001b[0;36mjoin\u001b[1;34m(self, timeout)\u001b[0m\n\u001b[0;32m   1046\u001b[0m             \u001b[1;31m# the behavior of a negative timeout isn't documented, but\u001b[0m\u001b[1;33m\u001b[0m\u001b[1;33m\u001b[0m\u001b[1;33m\u001b[0m\u001b[0m\n\u001b[0;32m   1047\u001b[0m             \u001b[1;31m# historically .join(timeout=x) for x<0 has acted as if timeout=0\u001b[0m\u001b[1;33m\u001b[0m\u001b[1;33m\u001b[0m\u001b[1;33m\u001b[0m\u001b[0m\n\u001b[1;32m-> 1048\u001b[1;33m             \u001b[0mself\u001b[0m\u001b[1;33m.\u001b[0m\u001b[0m_wait_for_tstate_lock\u001b[0m\u001b[1;33m(\u001b[0m\u001b[0mtimeout\u001b[0m\u001b[1;33m=\u001b[0m\u001b[0mmax\u001b[0m\u001b[1;33m(\u001b[0m\u001b[0mtimeout\u001b[0m\u001b[1;33m,\u001b[0m \u001b[1;36m0\u001b[0m\u001b[1;33m)\u001b[0m\u001b[1;33m)\u001b[0m\u001b[1;33m\u001b[0m\u001b[1;33m\u001b[0m\u001b[0m\n\u001b[0m\u001b[0;32m   1049\u001b[0m \u001b[1;33m\u001b[0m\u001b[0m\n\u001b[0;32m   1050\u001b[0m     \u001b[1;32mdef\u001b[0m \u001b[0m_wait_for_tstate_lock\u001b[0m\u001b[1;33m(\u001b[0m\u001b[0mself\u001b[0m\u001b[1;33m,\u001b[0m \u001b[0mblock\u001b[0m\u001b[1;33m=\u001b[0m\u001b[1;32mTrue\u001b[0m\u001b[1;33m,\u001b[0m \u001b[0mtimeout\u001b[0m\u001b[1;33m=\u001b[0m\u001b[1;33m-\u001b[0m\u001b[1;36m1\u001b[0m\u001b[1;33m)\u001b[0m\u001b[1;33m:\u001b[0m\u001b[1;33m\u001b[0m\u001b[1;33m\u001b[0m\u001b[0m\n",
      "\u001b[1;31mTypeError\u001b[0m: '>' not supported between instances of 'int' and 'dict'"
     ]
    }
   ],
   "source": [
    "prop_original = 40\n",
    "test_num = 1\n",
    "prop_num = prop_original\n",
    "clause_num = int(prop_num * 3)\n",
    "formula_file_name = f\"Experiment/formulas/cnf_3_testing.cnf\"\n",
    "data_file_name='Experiment/Data/experiment_unit_preference.csv'\n",
    "#output_tuple_to_csv(('propositions', 'clauses', 'result','DPLL calls','L/N ratio','solve time'),data_file_name)\n",
    "for i in range(16):\n",
    "    print(i)\n",
    "    LN_ratio = (3+i*0.2)\n",
    "    for _ in range(100):\n",
    "        clause_num = int(prop_num * LN_ratio)\n",
    "        create_cnf(prop_num,clause_num,formula_file_name)\n",
    "        formula = read_cnf_file(formula_file_name)        \n",
    "        try:\n",
    "            reset_calls()\n",
    "            start = time.time()\n",
    "            solution = func_timeout.func_timeout(tree_solve(formula, unit_preference=True), 30)\n",
    "            end = time.time()\n",
    "            calls = value_calls()\n",
    "            elapsed_time = end - start\n",
    "        except TimeoutError:\n",
    "            prop_num -= 5\n",
    "            clause_num = int(prop_num * LN_ratio)\n",
    "            continue\n",
    "        if solution != 'UNSAT' and not(formula.evaluate(solution)):\n",
    "            output_tuple_to_csv(('****WRONG****'),data_file_name)\n",
    "        else:\n",
    "            output_tuple_to_csv((prop_num,clause_num, formula.evaluate(solution), calls, LN_ratio ,elapsed_time),data_file_name)\n",
    "            prop_num += 2\n",
    "            clause_num = int(prop_num * LN_ratio)\n",
    "\n",
    "    \n",
    "\n",
    "\n",
    "    "
   ]
  },
  {
   "cell_type": "code",
   "execution_count": 29,
   "metadata": {},
   "outputs": [
    {
     "name": "stdout",
     "output_type": "stream",
     "text": [
      "0\n"
     ]
    },
    {
     "ename": "FunctionTimedOut",
     "evalue": "Function tree_solve (args=[((x_64 v x_31 v x_72) ^ ((-x_125) v x_130 v (-x_95)) ^ ((-x_2) v (-x_85) v (-x_96)) ^ ((-x_82) v (-x_40) v (-x_13)) ^ (x_134 v x_52 v (-x_46)) ^ ((-x_85) v x_15 v x_138) ^ ((-x_107) v (-x_85) v x_79) ^ ((-x_20) v x_131 v x_38) ^ ((-x_55) v (-x_20) v (-x_17)) ^ (x_47 v (-x_44) v x_68) ^ ((-x_125) v (-x_41) v x_3) ^ (x_61 v x_29 v (-x_108)) ^ (x_76 v (-x_41) v x_44) ^ (x_1 v x_22 v (-x_86)) ^ (x_97 v (-x_114) v (-x_36)) ^ ((-x_57) v (-x_46) v x_7) ^ ((-x_6) v x_58 v x_10) ^ (x_41 v (-x_129) v x_34) ^ (x_89 v (-x_124) v (-x_109)) ^ (x_46 v x_61 v (-x_46)) ^ (x_57 v (-x_30) v x_132) ^ (x_57 v x_129 v (-x_60)) ^ (x_136 v x_31 v (-x_110)) ^ (x_49 v (-x_71) v x_135) ^ (x_121 v x_36 v (-x_64)) ^ ((-x_121) v x_94 v x_28) ^ (x_63 v x_3 v x_7) ^ (x_26 v x_31 v x_131) ^ ((-x_94) v (-x_10) v x_14) ^ (x_75 v x_76 v x_120) ^ (x_26 v x_30 v x_138) ^ ((-x_26) v x_27 v (-x_137)) ^ ((-x_83) v (-x_138) v x_98) ^ (x_18 v x_87 v x_75) ^ (x_126 v (-x_119) v x_110) ^ (x_115 v (-x_7) v (-x_106)) ^ (x_81 v (-x_65) v x_80) ^ (x_16 v x_76 v x_127) ^ ((-x_92) v (-x_128) v x_3) ^ (x_118 v x_77 v (-x_112)) ^ ((-x_88) v x_27 v x_7) ^ (x_125 v (-x_74) v x_75) ^ ((-x_1) v (-x_31) v x_98) ^ (x_118 v (-x_8) v x_112) ^ (x_76 v x_109 v x_33) ^ ((-x_22) v (-x_138) v x_58) ^ (x_56 v (-x_20) v x_82) ^ ((-x_20) v (-x_44) v (-x_36)) ^ ((-x_80) v x_138 v x_82) ^ ((-x_138) v x_112 v (-x_43)) ^ ((-x_59) v (-x_128) v x_5) ^ ((-x_118) v (-x_108) v (-x_30)) ^ (x_1 v (-x_78) v x_130) ^ ((-x_113) v x_126 v x_24) ^ (x_115 v (-x_132) v x_122) ^ (x_44 v (-x_105) v x_38) ^ (x_34 v (-x_49) v x_71) ^ ((-x_116) v x_40 v (-x_116)) ^ (x_53 v x_24 v (-x_118)) ^ ((-x_111) v (-x_32) v (-x_89)) ^ (x_63 v x_137 v x_12) ^ ((-x_127) v (-x_103) v (-x_32)) ^ (x_24 v x_102 v (-x_44)) ^ (x_37 v x_33 v x_127) ^ ((-x_14) v x_24 v x_34) ^ (x_129 v (-x_21) v (-x_104)) ^ (x_29 v x_65 v x_29) ^ ((-x_119) v x_94 v (-x_33)) ^ ((-x_37) v x_118 v (-x_134)) ^ ((-x_36) v (-x_37) v (-x_93)) ^ (x_85 v x_113 v x_95) ^ ((-x_70) v (-x_14) v x_3) ^ ((-x_88) v (-x_102) v (-x_96)) ^ (x_28 v x_83 v x_75) ^ ((-x_58) v x_11 v (-x_118)) ^ (x_105 v (-x_125) v x_138) ^ (x_26 v x_116 v x_36) ^ (x_51 v x_32 v x_71) ^ (x_39 v (-x_75) v (-x_36)) ^ ((-x_47) v (-x_121) v x_42) ^ ((-x_15) v x_84 v x_129) ^ ((-x_87) v x_61 v (-x_91)) ^ (x_22 v x_89 v x_63) ^ ((-x_130) v (-x_136) v (-x_92)) ^ ((-x_33) v x_73 v x_85) ^ (x_47 v x_67 v x_21) ^ ((-x_81) v x_96 v x_39) ^ ((-x_24) v x_106 v (-x_18)) ^ (x_85 v x_44 v (-x_111)) ^ (x_3 v (-x_2) v (-x_17)) ^ (x_27 v (-x_129) v (-x_48)) ^ (x_100 v (-x_91) v (-x_121)) ^ ((-x_16) v x_40 v x_51) ^ (x_136 v (-x_93) v (-x_88)) ^ ((-x_61) v (-x_40) v (-x_41)) ^ ((-x_9) v (-x_110) v (-x_71)) ^ (x_30 v (-x_95) v x_47) ^ (x_52 v (-x_1) v (-x_11)) ^ (x_50 v (-x_94) v (-x_21)) ^ (x_93 v x_25 v x_52) ^ (x_71 v (-x_128) v (-x_87)) ^ (x_131 v x_119 v x_111) ^ (x_103 v (-x_112) v x_126) ^ (x_56 v (-x_46) v x_12) ^ ((-x_10) v (-x_124) v (-x_72)) ^ ((-x_134) v (-x_38) v x_89) ^ (x_18 v (-x_91) v x_21) ^ (x_108 v (-x_60) v (-x_45)) ^ (x_2 v (-x_72) v (-x_99)) ^ (x_102 v x_24 v (-x_4)) ^ ((-x_130) v (-x_137) v (-x_85)) ^ (x_54 v x_33 v (-x_137)) ^ ((-x_125) v (-x_109) v x_123) ^ (x_94 v x_52 v x_85) ^ (x_13 v (-x_49) v x_88) ^ ((-x_130) v x_93 v (-x_50)) ^ ((-x_75) v x_126 v x_120) ^ (x_90 v (-x_73) v x_61) ^ (x_50 v (-x_52) v (-x_73)) ^ (x_123 v x_111 v x_33) ^ ((-x_56) v x_109 v x_133) ^ ((-x_114) v x_42 v x_86) ^ ((-x_31) v (-x_59) v x_84) ^ (x_81 v x_25 v (-x_70)) ^ ((-x_42) v x_47 v (-x_81)) ^ ((-x_45) v (-x_3) v (-x_70)) ^ (x_68 v x_58 v (-x_138)) ^ ((-x_50) v x_31 v x_98) ^ ((-x_43) v x_49 v x_23) ^ ((-x_8) v (-x_47) v (-x_138)) ^ (x_22 v (-x_138) v (-x_70)) ^ (x_33 v (-x_108) v x_60) ^ (x_21 v x_110 v x_67) ^ (x_16 v (-x_69) v (-x_117)) ^ ((-x_29) v (-x_50) v x_62) ^ (x_11 v x_77 v x_14) ^ ((-x_47) v (-x_15) v x_128) ^ ((-x_81) v (-x_66) v x_14) ^ ((-x_33) v (-x_120) v x_118) ^ ((-x_89) v (-x_126) v (-x_99)) ^ ((-x_106) v (-x_41) v x_114) ^ ((-x_4) v (-x_128) v x_38) ^ ((-x_113) v (-x_1) v (-x_41)) ^ ((-x_55) v x_60 v x_125) ^ (x_1 v (-x_129) v (-x_132)) ^ ((-x_33) v (-x_133) v x_120) ^ ((-x_2) v (-x_137) v x_1) ^ (x_24 v x_131 v x_9) ^ ((-x_34) v (-x_8) v (-x_62)) ^ (x_78 v (-x_123) v x_73) ^ (x_125 v x_103 v (-x_119)) ^ (x_98 v x_114 v x_117) ^ ((-x_94) v (-x_53) v (-x_72)) ^ ((-x_83) v (-x_51) v (-x_79)) ^ (x_26 v x_70 v (-x_81)) ^ (x_67 v (-x_106) v x_23) ^ ((-x_90) v x_24 v (-x_116)) ^ (x_77 v (-x_73) v (-x_79)) ^ ((-x_102) v x_50 v (-x_25)) ^ (x_32 v x_16 v x_83) ^ ((-x_69) v (-x_21) v (-x_125)) ^ (x_109 v (-x_65) v (-x_127)) ^ ((-x_134) v (-x_52) v (-x_132)) ^ (x_10 v x_57 v (-x_28)) ^ ((-x_14) v x_91 v x_71) ^ (x_121 v (-x_133) v (-x_79)) ^ ((-x_19) v x_115 v x_96) ^ ((-x_5) v (-x_99) v (-x_134)) ^ (x_122 v (-x_108) v (-x_41)) ^ ((-x_135) v x_53 v (-x_6)) ^ (x_61 v x_87 v x_55) ^ (x_128 v (-x_107) v (-x_92)) ^ ((-x_27) v (-x_99) v x_77) ^ ((-x_32) v (-x_13) v (-x_69)) ^ ((-x_129) v (-x_61) v (-x_38)) ^ (x_24 v x_131 v (-x_77)) ^ ((-x_122) v (-x_90) v (-x_53)) ^ ((-x_116) v x_107 v (-x_20)) ^ ((-x_87) v x_89 v x_37) ^ (x_122 v x_15 v (-x_123)) ^ (x_9 v x_18 v (-x_19)) ^ ((-x_94) v x_117 v x_20) ^ ((-x_90) v x_105 v (-x_67)) ^ (x_109 v (-x_25) v x_123) ^ ((-x_87) v x_98 v (-x_15)) ^ ((-x_120) v (-x_58) v x_1) ^ (x_113 v x_34 v (-x_122)) ^ ((-x_121) v (-x_11) v (-x_69)) ^ (x_106 v x_53 v (-x_27)) ^ ((-x_39) v x_19 v x_22) ^ (x_88 v x_58 v (-x_117)) ^ (x_122 v x_65 v x_39) ^ (x_97 v x_32 v x_83) ^ ((-x_91) v (-x_67) v (-x_18)) ^ ((-x_18) v (-x_126) v (-x_13)) ^ (x_82 v (-x_24) v (-x_27)) ^ ((-x_4) v x_111 v (-x_17)) ^ (x_130 v (-x_136) v (-x_119)) ^ (x_70 v x_67 v x_64) ^ ((-x_125) v x_122 v (-x_29)) ^ (x_64 v x_111 v (-x_133)) ^ ((-x_90) v (-x_76) v x_128) ^ ((-x_52) v (-x_18) v x_1) ^ (x_88 v x_28 v (-x_110)) ^ ((-x_14) v x_2 v x_43) ^ ((-x_85) v x_35 v (-x_30)) ^ (x_107 v x_96 v x_137) ^ ((-x_79) v x_24 v x_27) ^ (x_21 v x_44 v (-x_118)) ^ ((-x_74) v (-x_136) v (-x_4)) ^ ((-x_28) v (-x_117) v (-x_133)) ^ ((-x_74) v (-x_60) v (-x_74)) ^ ((-x_23) v x_95 v (-x_32)) ^ (x_20 v (-x_51) v (-x_59)) ^ ((-x_82) v (-x_61) v (-x_52)) ^ (x_28 v (-x_125) v (-x_86)) ^ ((-x_29) v (-x_46) v (-x_34)) ^ (x_54 v x_33 v x_23) ^ ((-x_109) v x_6 v (-x_59)) ^ (x_72 v (-x_40) v (-x_71)) ^ ((-x_6) v (-x_63) v x_34) ^ (x_44 v x_49 v x_135) ^ ((-x_7) v x_30 v (-x_22)) ^ (x_27 v (-x_119) v (-x_34)) ^ ((-x_124) v x_89 v x_126) ^ (x_46 v (-x_90) v x_53) ^ ((-x_102) v (-x_109) v x_43) ^ ((-x_127) v x_35 v x_131) ^ ((-x_26) v (-x_135) v x_72) ^ (x_129 v (-x_112) v (-x_32)) ^ (x_40 v (-x_46) v x_14) ^ ((-x_34) v (-x_20) v x_14) ^ ((-x_17) v x_73 v x_132) ^ ((-x_109) v x_44 v x_120) ^ (x_94 v (-x_63) v (-x_91)) ^ (x_44 v x_92 v x_39) ^ (x_39 v x_21 v (-x_138)) ^ (x_31 v (-x_97) v (-x_58)) ^ ((-x_20) v x_101 v (-x_122)) ^ (x_95 v x_29 v (-x_128)) ^ ((-x_130) v x_104 v (-x_66)) ^ ((-x_93) v x_126 v (-x_38)) ^ (x_68 v (-x_113) v x_88) ^ (x_52 v x_120 v (-x_61)) ^ (x_101 v x_18 v (-x_104)) ^ (x_116 v (-x_110) v (-x_100)) ^ (x_68 v (-x_112) v (-x_43)) ^ ((-x_107) v x_53 v (-x_89)) ^ ((-x_10) v x_100 v x_78) ^ (x_59 v (-x_35) v x_136) ^ ((-x_26) v x_59 v x_89) ^ ((-x_68) v (-x_138) v x_21) ^ ((-x_91) v x_128 v (-x_78)) ^ ((-x_78) v (-x_49) v x_128) ^ ((-x_76) v (-x_99) v x_48) ^ (x_136 v x_50 v x_40) ^ (x_92 v (-x_68) v (-x_124)) ^ ((-x_71) v x_45 v x_57) ^ ((-x_37) v x_81 v x_12) ^ (x_96 v (-x_5) v (-x_77)) ^ (x_35 v x_12 v (-x_65)) ^ ((-x_18) v x_121 v x_42) ^ ((-x_10) v x_137 v (-x_47)) ^ (x_19 v (-x_4) v x_5) ^ ((-x_67) v x_52 v (-x_86)) ^ (x_32 v x_133 v (-x_89)) ^ (x_118 v x_5 v (-x_54)) ^ ((-x_89) v (-x_105) v (-x_38)) ^ ((-x_112) v (-x_33) v (-x_65)) ^ ((-x_1) v (-x_9) v (-x_8)) ^ ((-x_122) v (-x_135) v (-x_121)) ^ (x_114 v x_88 v (-x_1)) ^ ((-x_17) v (-x_72) v (-x_33)) ^ ((-x_81) v (-x_57) v (-x_96)) ^ (x_56 v (-x_30) v x_29) ^ (x_121 v (-x_101) v (-x_25)) ^ (x_43 v (-x_123) v x_28) ^ ((-x_65) v (-x_120) v x_5) ^ ((-x_78) v x_99 v x_104) ^ ((-x_55) v x_31 v x_82) ^ (x_58 v (-x_47) v x_49) ^ ((-x_93) v (-x_79) v x_120) ^ ((-x_102) v (-x_65) v (-x_1)) ^ (x_77 v (-x_14) v (-x_83)) ^ ((-x_110) v (-x_34) v (-x_69)) ^ (x_97 v x_59 v (-x_102)) ^ ((-x_94) v (-x_73) v x_8) ^ (x_16 v x_138 v (-x_46)) ^ ((-x_36) v (-x_110) v x_134) ^ ((-x_53) v x_132 v (-x_71)) ^ (x_127 v (-x_86) v x_109) ^ ((-x_93) v (-x_102) v x_126) ^ (x_43 v (-x_81) v (-x_123)) ^ (x_43 v (-x_38) v (-x_23)) ^ ((-x_104) v x_102 v (-x_85)) ^ (x_24 v x_100 v (-x_125)) ^ ((-x_106) v x_3 v x_121) ^ (x_105 v x_41 v (-x_27)) ^ ((-x_11) v x_2 v x_103) ^ (x_68 v x_18 v (-x_121)) ^ ((-x_15) v (-x_100) v x_138) ^ ((-x_20) v (-x_64) v (-x_46)) ^ ((-x_26) v x_79 v (-x_97)) ^ (x_44 v x_118 v x_43) ^ (x_82 v x_40 v x_117) ^ (x_46 v x_137 v x_63) ^ (x_92 v (-x_60) v (-x_37)) ^ (x_55 v x_126 v (-x_120)) ^ ((-x_25) v x_44 v (-x_44)) ^ ((-x_1) v (-x_72) v (-x_53)) ^ ((-x_26) v x_98 v x_78) ^ (x_86 v x_78 v (-x_18)) ^ ((-x_131) v x_40 v (-x_1)) ^ ((-x_14) v x_104 v x_32) ^ (x_3 v (-x_17) v (-x_130)) ^ ((-x_68) v (-x_31) v (-x_56)) ^ (x_7 v x_12 v x_116) ^ ((-x_96) v x_26 v (-x_12)) ^ (x_115 v x_20 v (-x_113)) ^ (x_135 v (-x_126) v (-x_44)) ^ ((-x_72) v x_31 v (-x_52)) ^ ((-x_133) v (-x_26) v (-x_58)) ^ ((-x_55) v (-x_44) v x_82) ^ ((-x_135) v x_118 v x_51) ^ ((-x_81) v x_114 v x_93) ^ ((-x_96) v (-x_61) v x_137) ^ ((-x_138) v (-x_23) v (-x_36)) ^ (x_71 v (-x_134) v x_36) ^ (x_101 v (-x_50) v x_34) ^ ((-x_66) v x_84 v x_107) ^ ((-x_67) v x_99 v (-x_52)) ^ ((-x_70) v (-x_25) v x_20) ^ ((-x_38) v (-x_83) v x_87) ^ ((-x_130) v x_38 v (-x_41)) ^ ((-x_106) v x_112 v (-x_73)) ^ (x_39 v x_25 v x_61) ^ ((-x_29) v x_116 v x_7) ^ (x_42 v (-x_28) v x_75) ^ (x_33 v (-x_111) v x_101) ^ ((-x_42) v (-x_75) v (-x_81)) ^ ((-x_127) v x_1 v (-x_133)) ^ (x_120 v x_113 v x_17) ^ (x_45 v (-x_98) v x_97) ^ ((-x_138) v x_66 v x_65) ^ ((-x_104) v (-x_96) v x_113) ^ (x_76 v (-x_19) v (-x_28)) ^ (x_109 v x_8 v x_12) ^ (x_18 v (-x_103) v (-x_122)) ^ ((-x_136) v x_123 v x_108) ^ ((-x_30) v (-x_96) v x_12) ^ ((-x_66) v (-x_82) v x_59) ^ (x_10 v (-x_13) v (-x_120)) ^ (x_8 v (-x_90) v x_42) ^ ((-x_48) v (-x_133) v x_121) ^ ((-x_37) v (-x_37) v x_100) ^ ((-x_92) v x_21 v x_85) ^ (x_80 v (-x_108) v (-x_109)) ^ (x_3 v (-x_64) v x_9) ^ ((-x_102) v (-x_39) v x_126) ^ ((-x_39) v x_37 v x_129) ^ ((-x_113) v (-x_41) v (-x_11)) ^ ((-x_67) v x_11 v x_79) ^ (x_53 v x_133 v x_114) ^ (x_125 v x_18 v x_119) ^ (x_70 v (-x_119) v (-x_132)) ^ (x_61 v (-x_108) v x_23) ^ (x_131 v (-x_125) v x_23) ^ ((-x_86) v (-x_138) v x_89) ^ ((-x_72) v x_38 v x_115) ^ (x_72 v x_34 v (-x_70)) ^ (x_136 v x_100 v (-x_137)) ^ ((-x_31) v x_137 v (-x_3)) ^ (x_61 v x_66 v (-x_40)) ^ ((-x_44) v (-x_130) v (-x_28)) ^ ((-x_16) v x_37 v (-x_72)) ^ (x_49 v (-x_69) v x_12) ^ ((-x_49) v (-x_121) v (-x_79)) ^ ((-x_87) v x_95 v x_68) ^ (x_33 v (-x_64) v (-x_63)) ^ ((-x_118) v x_105 v x_112) ^ (x_27 v (-x_72) v (-x_117)) ^ (x_84 v (-x_8) v (-x_112)) ^ ((-x_133) v (-x_17) v x_82) ^ (x_42 v x_16 v (-x_87)) ^ (x_1 v x_60 v (-x_12)) ^ (x_72 v x_26 v (-x_93)) ^ (x_96 v (-x_138) v x_123) ^ ((-x_102) v (-x_129) v (-x_127)) ^ ((-x_4) v x_109 v x_70) ^ ((-x_112) v (-x_138) v x_111) ^ ((-x_26) v x_34 v (-x_122)) ^ (x_94 v x_17 v x_116) ^ ((-x_18) v (-x_7) v x_68) ^ ((-x_76) v x_75 v (-x_91)) ^ ((-x_115) v (-x_54) v x_133) ^ (x_13 v (-x_121) v x_29) ^ (x_8 v (-x_4) v (-x_51)) ^ (x_130 v (-x_65) v (-x_4)) ^ ((-x_108) v (-x_117) v (-x_20)) ^ ((-x_18) v (-x_80) v x_130) ^ (x_70 v (-x_60) v x_47) ^ ((-x_74) v (-x_41) v x_4) ^ (x_12 v x_108 v (-x_101)) ^ (x_21 v (-x_20) v x_66) ^ ((-x_66) v x_54 v x_86) ^ ((-x_135) v x_32 v (-x_17)) ^ (x_66 v (-x_53) v (-x_114)) ^ (x_124 v x_3 v (-x_41)) ^ (x_40 v x_30 v (-x_17)) ^ (x_136 v (-x_11) v x_45) ^ ((-x_40) v (-x_98) v x_65) ^ ((-x_7) v (-x_108) v x_89) ^ ((-x_114) v x_92 v (-x_20)) ^ ((-x_90) v x_61 v (-x_110))), {'unit_preference': True}]) (kwargs={}) timed out after 30.000000 seconds.\n",
     "output_type": "error",
     "traceback": [
      "\u001b[1;31m---------------------------------------------------------------------------\u001b[0m",
      "\u001b[1;31mFunctionTimedOut\u001b[0m                          Traceback (most recent call last)",
      "\u001b[1;32m~\\AppData\\Local\\Temp\\ipykernel_812\\3295854626.py\u001b[0m in \u001b[0;36m<module>\u001b[1;34m\u001b[0m\n\u001b[0;32m     16\u001b[0m             \u001b[0mreset_calls\u001b[0m\u001b[1;33m(\u001b[0m\u001b[1;33m)\u001b[0m\u001b[1;33m\u001b[0m\u001b[1;33m\u001b[0m\u001b[0m\n\u001b[0;32m     17\u001b[0m             \u001b[0mstart\u001b[0m \u001b[1;33m=\u001b[0m \u001b[0mtime\u001b[0m\u001b[1;33m.\u001b[0m\u001b[0mtime\u001b[0m\u001b[1;33m(\u001b[0m\u001b[1;33m)\u001b[0m\u001b[1;33m\u001b[0m\u001b[1;33m\u001b[0m\u001b[0m\n\u001b[1;32m---> 18\u001b[1;33m             \u001b[0msolution\u001b[0m \u001b[1;33m=\u001b[0m \u001b[0mfunc_timeout\u001b[0m\u001b[1;33m.\u001b[0m\u001b[0mfunc_timeout\u001b[0m\u001b[1;33m(\u001b[0m\u001b[1;36m30\u001b[0m\u001b[1;33m,\u001b[0m \u001b[0mtree_solve\u001b[0m\u001b[1;33m,\u001b[0m \u001b[1;33m[\u001b[0m\u001b[0mformula\u001b[0m\u001b[1;33m,\u001b[0m \u001b[1;33m{\u001b[0m\u001b[1;34m\"unit_preference\"\u001b[0m\u001b[1;33m:\u001b[0m \u001b[1;32mTrue\u001b[0m\u001b[1;33m}\u001b[0m\u001b[1;33m]\u001b[0m\u001b[1;33m)\u001b[0m\u001b[1;33m\u001b[0m\u001b[1;33m\u001b[0m\u001b[0m\n\u001b[0m\u001b[0;32m     19\u001b[0m             \u001b[0mend\u001b[0m \u001b[1;33m=\u001b[0m \u001b[0mtime\u001b[0m\u001b[1;33m.\u001b[0m\u001b[0mtime\u001b[0m\u001b[1;33m(\u001b[0m\u001b[1;33m)\u001b[0m\u001b[1;33m\u001b[0m\u001b[1;33m\u001b[0m\u001b[0m\n\u001b[0;32m     20\u001b[0m             \u001b[0mcalls\u001b[0m \u001b[1;33m=\u001b[0m \u001b[0mvalue_calls\u001b[0m\u001b[1;33m(\u001b[0m\u001b[1;33m)\u001b[0m\u001b[1;33m\u001b[0m\u001b[1;33m\u001b[0m\u001b[0m\n",
      "\u001b[1;32mc:\\Users\\20gam\\anaconda3\\envs\\ai_env\\lib\\site-packages\\func_timeout\\dafunc.py\u001b[0m in \u001b[0;36mfunc_timeout\u001b[1;34m(timeout, func, args, kwargs)\u001b[0m\n\u001b[0;32m     99\u001b[0m         \u001b[0mthread\u001b[0m\u001b[1;33m.\u001b[0m\u001b[0m_stopThread\u001b[0m\u001b[1;33m(\u001b[0m\u001b[0mstopException\u001b[0m\u001b[1;33m)\u001b[0m\u001b[1;33m\u001b[0m\u001b[1;33m\u001b[0m\u001b[0m\n\u001b[0;32m    100\u001b[0m         \u001b[0mthread\u001b[0m\u001b[1;33m.\u001b[0m\u001b[0mjoin\u001b[0m\u001b[1;33m(\u001b[0m\u001b[0mmin\u001b[0m\u001b[1;33m(\u001b[0m\u001b[1;36m.1\u001b[0m\u001b[1;33m,\u001b[0m \u001b[0mtimeout\u001b[0m \u001b[1;33m/\u001b[0m \u001b[1;36m50.0\u001b[0m\u001b[1;33m)\u001b[0m\u001b[1;33m)\u001b[0m\u001b[1;33m\u001b[0m\u001b[1;33m\u001b[0m\u001b[0m\n\u001b[1;32m--> 101\u001b[1;33m         \u001b[1;32mraise\u001b[0m \u001b[0mFunctionTimedOut\u001b[0m\u001b[1;33m(\u001b[0m\u001b[1;34m''\u001b[0m\u001b[1;33m,\u001b[0m \u001b[0mtimeout\u001b[0m\u001b[1;33m,\u001b[0m \u001b[0mfunc\u001b[0m\u001b[1;33m,\u001b[0m \u001b[0margs\u001b[0m\u001b[1;33m,\u001b[0m \u001b[0mkwargs\u001b[0m\u001b[1;33m)\u001b[0m\u001b[1;33m\u001b[0m\u001b[1;33m\u001b[0m\u001b[0m\n\u001b[0m\u001b[0;32m    102\u001b[0m     \u001b[1;32melse\u001b[0m\u001b[1;33m:\u001b[0m\u001b[1;33m\u001b[0m\u001b[1;33m\u001b[0m\u001b[0m\n\u001b[0;32m    103\u001b[0m         \u001b[1;31m# We can still cleanup the thread here..\u001b[0m\u001b[1;33m\u001b[0m\u001b[1;33m\u001b[0m\u001b[1;33m\u001b[0m\u001b[0m\n",
      "\u001b[1;31mFunctionTimedOut\u001b[0m: Function tree_solve (args=[((x_64 v x_31 v x_72) ^ ((-x_125) v x_130 v (-x_95)) ^ ((-x_2) v (-x_85) v (-x_96)) ^ ((-x_82) v (-x_40) v (-x_13)) ^ (x_134 v x_52 v (-x_46)) ^ ((-x_85) v x_15 v x_138) ^ ((-x_107) v (-x_85) v x_79) ^ ((-x_20) v x_131 v x_38) ^ ((-x_55) v (-x_20) v (-x_17)) ^ (x_47 v (-x_44) v x_68) ^ ((-x_125) v (-x_41) v x_3) ^ (x_61 v x_29 v (-x_108)) ^ (x_76 v (-x_41) v x_44) ^ (x_1 v x_22 v (-x_86)) ^ (x_97 v (-x_114) v (-x_36)) ^ ((-x_57) v (-x_46) v x_7) ^ ((-x_6) v x_58 v x_10) ^ (x_41 v (-x_129) v x_34) ^ (x_89 v (-x_124) v (-x_109)) ^ (x_46 v x_61 v (-x_46)) ^ (x_57 v (-x_30) v x_132) ^ (x_57 v x_129 v (-x_60)) ^ (x_136 v x_31 v (-x_110)) ^ (x_49 v (-x_71) v x_135) ^ (x_121 v x_36 v (-x_64)) ^ ((-x_121) v x_94 v x_28) ^ (x_63 v x_3 v x_7) ^ (x_26 v x_31 v x_131) ^ ((-x_94) v (-x_10) v x_14) ^ (x_75 v x_76 v x_120) ^ (x_26 v x_30 v x_138) ^ ((-x_26) v x_27 v (-x_137)) ^ ((-x_83) v (-x_138) v x_98) ^ (x_18 v x_87 v x_75) ^ (x_126 v (-x_119) v x_110) ^ (x_115 v (-x_7) v (-x_106)) ^ (x_81 v (-x_65) v x_80) ^ (x_16 v x_76 v x_127) ^ ((-x_92) v (-x_128) v x_3) ^ (x_118 v x_77 v (-x_112)) ^ ((-x_88) v x_27 v x_7) ^ (x_125 v (-x_74) v x_75) ^ ((-x_1) v (-x_31) v x_98) ^ (x_118 v (-x_8) v x_112) ^ (x_76 v x_109 v x_33) ^ ((-x_22) v (-x_138) v x_58) ^ (x_56 v (-x_20) v x_82) ^ ((-x_20) v (-x_44) v (-x_36)) ^ ((-x_80) v x_138 v x_82) ^ ((-x_138) v x_112 v (-x_43)) ^ ((-x_59) v (-x_128) v x_5) ^ ((-x_118) v (-x_108) v (-x_30)) ^ (x_1 v (-x_78) v x_130) ^ ((-x_113) v x_126 v x_24) ^ (x_115 v (-x_132) v x_122) ^ (x_44 v (-x_105) v x_38) ^ (x_34 v (-x_49) v x_71) ^ ((-x_116) v x_40 v (-x_116)) ^ (x_53 v x_24 v (-x_118)) ^ ((-x_111) v (-x_32) v (-x_89)) ^ (x_63 v x_137 v x_12) ^ ((-x_127) v (-x_103) v (-x_32)) ^ (x_24 v x_102 v (-x_44)) ^ (x_37 v x_33 v x_127) ^ ((-x_14) v x_24 v x_34) ^ (x_129 v (-x_21) v (-x_104)) ^ (x_29 v x_65 v x_29) ^ ((-x_119) v x_94 v (-x_33)) ^ ((-x_37) v x_118 v (-x_134)) ^ ((-x_36) v (-x_37) v (-x_93)) ^ (x_85 v x_113 v x_95) ^ ((-x_70) v (-x_14) v x_3) ^ ((-x_88) v (-x_102) v (-x_96)) ^ (x_28 v x_83 v x_75) ^ ((-x_58) v x_11 v (-x_118)) ^ (x_105 v (-x_125) v x_138) ^ (x_26 v x_116 v x_36) ^ (x_51 v x_32 v x_71) ^ (x_39 v (-x_75) v (-x_36)) ^ ((-x_47) v (-x_121) v x_42) ^ ((-x_15) v x_84 v x_129) ^ ((-x_87) v x_61 v (-x_91)) ^ (x_22 v x_89 v x_63) ^ ((-x_130) v (-x_136) v (-x_92)) ^ ((-x_33) v x_73 v x_85) ^ (x_47 v x_67 v x_21) ^ ((-x_81) v x_96 v x_39) ^ ((-x_24) v x_106 v (-x_18)) ^ (x_85 v x_44 v (-x_111)) ^ (x_3 v (-x_2) v (-x_17)) ^ (x_27 v (-x_129) v (-x_48)) ^ (x_100 v (-x_91) v (-x_121)) ^ ((-x_16) v x_40 v x_51) ^ (x_136 v (-x_93) v (-x_88)) ^ ((-x_61) v (-x_40) v (-x_41)) ^ ((-x_9) v (-x_110) v (-x_71)) ^ (x_30 v (-x_95) v x_47) ^ (x_52 v (-x_1) v (-x_11)) ^ (x_50 v (-x_94) v (-x_21)) ^ (x_93 v x_25 v x_52) ^ (x_71 v (-x_128) v (-x_87)) ^ (x_131 v x_119 v x_111) ^ (x_103 v (-x_112) v x_126) ^ (x_56 v (-x_46) v x_12) ^ ((-x_10) v (-x_124) v (-x_72)) ^ ((-x_134) v (-x_38) v x_89) ^ (x_18 v (-x_91) v x_21) ^ (x_108 v (-x_60) v (-x_45)) ^ (x_2 v (-x_72) v (-x_99)) ^ (x_102 v x_24 v (-x_4)) ^ ((-x_130) v (-x_137) v (-x_85)) ^ (x_54 v x_33 v (-x_137)) ^ ((-x_125) v (-x_109) v x_123) ^ (x_94 v x_52 v x_85) ^ (x_13 v (-x_49) v x_88) ^ ((-x_130) v x_93 v (-x_50)) ^ ((-x_75) v x_126 v x_120) ^ (x_90 v (-x_73) v x_61) ^ (x_50 v (-x_52) v (-x_73)) ^ (x_123 v x_111 v x_33) ^ ((-x_56) v x_109 v x_133) ^ ((-x_114) v x_42 v x_86) ^ ((-x_31) v (-x_59) v x_84) ^ (x_81 v x_25 v (-x_70)) ^ ((-x_42) v x_47 v (-x_81)) ^ ((-x_45) v (-x_3) v (-x_70)) ^ (x_68 v x_58 v (-x_138)) ^ ((-x_50) v x_31 v x_98) ^ ((-x_43) v x_49 v x_23) ^ ((-x_8) v (-x_47) v (-x_138)) ^ (x_22 v (-x_138) v (-x_70)) ^ (x_33 v (-x_108) v x_60) ^ (x_21 v x_110 v x_67) ^ (x_16 v (-x_69) v (-x_117)) ^ ((-x_29) v (-x_50) v x_62) ^ (x_11 v x_77 v x_14) ^ ((-x_47) v (-x_15) v x_128) ^ ((-x_81) v (-x_66) v x_14) ^ ((-x_33) v (-x_120) v x_118) ^ ((-x_89) v (-x_126) v (-x_99)) ^ ((-x_106) v (-x_41) v x_114) ^ ((-x_4) v (-x_128) v x_38) ^ ((-x_113) v (-x_1) v (-x_41)) ^ ((-x_55) v x_60 v x_125) ^ (x_1 v (-x_129) v (-x_132)) ^ ((-x_33) v (-x_133) v x_120) ^ ((-x_2) v (-x_137) v x_1) ^ (x_24 v x_131 v x_9) ^ ((-x_34) v (-x_8) v (-x_62)) ^ (x_78 v (-x_123) v x_73) ^ (x_125 v x_103 v (-x_119)) ^ (x_98 v x_114 v x_117) ^ ((-x_94) v (-x_53) v (-x_72)) ^ ((-x_83) v (-x_51) v (-x_79)) ^ (x_26 v x_70 v (-x_81)) ^ (x_67 v (-x_106) v x_23) ^ ((-x_90) v x_24 v (-x_116)) ^ (x_77 v (-x_73) v (-x_79)) ^ ((-x_102) v x_50 v (-x_25)) ^ (x_32 v x_16 v x_83) ^ ((-x_69) v (-x_21) v (-x_125)) ^ (x_109 v (-x_65) v (-x_127)) ^ ((-x_134) v (-x_52) v (-x_132)) ^ (x_10 v x_57 v (-x_28)) ^ ((-x_14) v x_91 v x_71) ^ (x_121 v (-x_133) v (-x_79)) ^ ((-x_19) v x_115 v x_96) ^ ((-x_5) v (-x_99) v (-x_134)) ^ (x_122 v (-x_108) v (-x_41)) ^ ((-x_135) v x_53 v (-x_6)) ^ (x_61 v x_87 v x_55) ^ (x_128 v (-x_107) v (-x_92)) ^ ((-x_27) v (-x_99) v x_77) ^ ((-x_32) v (-x_13) v (-x_69)) ^ ((-x_129) v (-x_61) v (-x_38)) ^ (x_24 v x_131 v (-x_77)) ^ ((-x_122) v (-x_90) v (-x_53)) ^ ((-x_116) v x_107 v (-x_20)) ^ ((-x_87) v x_89 v x_37) ^ (x_122 v x_15 v (-x_123)) ^ (x_9 v x_18 v (-x_19)) ^ ((-x_94) v x_117 v x_20) ^ ((-x_90) v x_105 v (-x_67)) ^ (x_109 v (-x_25) v x_123) ^ ((-x_87) v x_98 v (-x_15)) ^ ((-x_120) v (-x_58) v x_1) ^ (x_113 v x_34 v (-x_122)) ^ ((-x_121) v (-x_11) v (-x_69)) ^ (x_106 v x_53 v (-x_27)) ^ ((-x_39) v x_19 v x_22) ^ (x_88 v x_58 v (-x_117)) ^ (x_122 v x_65 v x_39) ^ (x_97 v x_32 v x_83) ^ ((-x_91) v (-x_67) v (-x_18)) ^ ((-x_18) v (-x_126) v (-x_13)) ^ (x_82 v (-x_24) v (-x_27)) ^ ((-x_4) v x_111 v (-x_17)) ^ (x_130 v (-x_136) v (-x_119)) ^ (x_70 v x_67 v x_64) ^ ((-x_125) v x_122 v (-x_29)) ^ (x_64 v x_111 v (-x_133)) ^ ((-x_90) v (-x_76) v x_128) ^ ((-x_52) v (-x_18) v x_1) ^ (x_88 v x_28 v (-x_110)) ^ ((-x_14) v x_2 v x_43) ^ ((-x_85) v x_35 v (-x_30)) ^ (x_107 v x_96 v x_137) ^ ((-x_79) v x_24 v x_27) ^ (x_21 v x_44 v (-x_118)) ^ ((-x_74) v (-x_136) v (-x_4)) ^ ((-x_28) v (-x_117) v (-x_133)) ^ ((-x_74) v (-x_60) v (-x_74)) ^ ((-x_23) v x_95 v (-x_32)) ^ (x_20 v (-x_51) v (-x_59)) ^ ((-x_82) v (-x_61) v (-x_52)) ^ (x_28 v (-x_125) v (-x_86)) ^ ((-x_29) v (-x_46) v (-x_34)) ^ (x_54 v x_33 v x_23) ^ ((-x_109) v x_6 v (-x_59)) ^ (x_72 v (-x_40) v (-x_71)) ^ ((-x_6) v (-x_63) v x_34) ^ (x_44 v x_49 v x_135) ^ ((-x_7) v x_30 v (-x_22)) ^ (x_27 v (-x_119) v (-x_34)) ^ ((-x_124) v x_89 v x_126) ^ (x_46 v (-x_90) v x_53) ^ ((-x_102) v (-x_109) v x_43) ^ ((-x_127) v x_35 v x_131) ^ ((-x_26) v (-x_135) v x_72) ^ (x_129 v (-x_112) v (-x_32)) ^ (x_40 v (-x_46) v x_14) ^ ((-x_34) v (-x_20) v x_14) ^ ((-x_17) v x_73 v x_132) ^ ((-x_109) v x_44 v x_120) ^ (x_94 v (-x_63) v (-x_91)) ^ (x_44 v x_92 v x_39) ^ (x_39 v x_21 v (-x_138)) ^ (x_31 v (-x_97) v (-x_58)) ^ ((-x_20) v x_101 v (-x_122)) ^ (x_95 v x_29 v (-x_128)) ^ ((-x_130) v x_104 v (-x_66)) ^ ((-x_93) v x_126 v (-x_38)) ^ (x_68 v (-x_113) v x_88) ^ (x_52 v x_120 v (-x_61)) ^ (x_101 v x_18 v (-x_104)) ^ (x_116 v (-x_110) v (-x_100)) ^ (x_68 v (-x_112) v (-x_43)) ^ ((-x_107) v x_53 v (-x_89)) ^ ((-x_10) v x_100 v x_78) ^ (x_59 v (-x_35) v x_136) ^ ((-x_26) v x_59 v x_89) ^ ((-x_68) v (-x_138) v x_21) ^ ((-x_91) v x_128 v (-x_78)) ^ ((-x_78) v (-x_49) v x_128) ^ ((-x_76) v (-x_99) v x_48) ^ (x_136 v x_50 v x_40) ^ (x_92 v (-x_68) v (-x_124)) ^ ((-x_71) v x_45 v x_57) ^ ((-x_37) v x_81 v x_12) ^ (x_96 v (-x_5) v (-x_77)) ^ (x_35 v x_12 v (-x_65)) ^ ((-x_18) v x_121 v x_42) ^ ((-x_10) v x_137 v (-x_47)) ^ (x_19 v (-x_4) v x_5) ^ ((-x_67) v x_52 v (-x_86)) ^ (x_32 v x_133 v (-x_89)) ^ (x_118 v x_5 v (-x_54)) ^ ((-x_89) v (-x_105) v (-x_38)) ^ ((-x_112) v (-x_33) v (-x_65)) ^ ((-x_1) v (-x_9) v (-x_8)) ^ ((-x_122) v (-x_135) v (-x_121)) ^ (x_114 v x_88 v (-x_1)) ^ ((-x_17) v (-x_72) v (-x_33)) ^ ((-x_81) v (-x_57) v (-x_96)) ^ (x_56 v (-x_30) v x_29) ^ (x_121 v (-x_101) v (-x_25)) ^ (x_43 v (-x_123) v x_28) ^ ((-x_65) v (-x_120) v x_5) ^ ((-x_78) v x_99 v x_104) ^ ((-x_55) v x_31 v x_82) ^ (x_58 v (-x_47) v x_49) ^ ((-x_93) v (-x_79) v x_120) ^ ((-x_102) v (-x_65) v (-x_1)) ^ (x_77 v (-x_14) v (-x_83)) ^ ((-x_110) v (-x_34) v (-x_69)) ^ (x_97 v x_59 v (-x_102)) ^ ((-x_94) v (-x_73) v x_8) ^ (x_16 v x_138 v (-x_46)) ^ ((-x_36) v (-x_110) v x_134) ^ ((-x_53) v x_132 v (-x_71)) ^ (x_127 v (-x_86) v x_109) ^ ((-x_93) v (-x_102) v x_126) ^ (x_43 v (-x_81) v (-x_123)) ^ (x_43 v (-x_38) v (-x_23)) ^ ((-x_104) v x_102 v (-x_85)) ^ (x_24 v x_100 v (-x_125)) ^ ((-x_106) v x_3 v x_121) ^ (x_105 v x_41 v (-x_27)) ^ ((-x_11) v x_2 v x_103) ^ (x_68 v x_18 v (-x_121)) ^ ((-x_15) v (-x_100) v x_138) ^ ((-x_20) v (-x_64) v (-x_46)) ^ ((-x_26) v x_79 v (-x_97)) ^ (x_44 v x_118 v x_43) ^ (x_82 v x_40 v x_117) ^ (x_46 v x_137 v x_63) ^ (x_92 v (-x_60) v (-x_37)) ^ (x_55 v x_126 v (-x_120)) ^ ((-x_25) v x_44 v (-x_44)) ^ ((-x_1) v (-x_72) v (-x_53)) ^ ((-x_26) v x_98 v x_78) ^ (x_86 v x_78 v (-x_18)) ^ ((-x_131) v x_40 v (-x_1)) ^ ((-x_14) v x_104 v x_32) ^ (x_3 v (-x_17) v (-x_130)) ^ ((-x_68) v (-x_31) v (-x_56)) ^ (x_7 v x_12 v x_116) ^ ((-x_96) v x_26 v (-x_12)) ^ (x_115 v x_20 v (-x_113)) ^ (x_135 v (-x_126) v (-x_44)) ^ ((-x_72) v x_31 v (-x_52)) ^ ((-x_133) v (-x_26) v (-x_58)) ^ ((-x_55) v (-x_44) v x_82) ^ ((-x_135) v x_118 v x_51) ^ ((-x_81) v x_114 v x_93) ^ ((-x_96) v (-x_61) v x_137) ^ ((-x_138) v (-x_23) v (-x_36)) ^ (x_71 v (-x_134) v x_36) ^ (x_101 v (-x_50) v x_34) ^ ((-x_66) v x_84 v x_107) ^ ((-x_67) v x_99 v (-x_52)) ^ ((-x_70) v (-x_25) v x_20) ^ ((-x_38) v (-x_83) v x_87) ^ ((-x_130) v x_38 v (-x_41)) ^ ((-x_106) v x_112 v (-x_73)) ^ (x_39 v x_25 v x_61) ^ ((-x_29) v x_116 v x_7) ^ (x_42 v (-x_28) v x_75) ^ (x_33 v (-x_111) v x_101) ^ ((-x_42) v (-x_75) v (-x_81)) ^ ((-x_127) v x_1 v (-x_133)) ^ (x_120 v x_113 v x_17) ^ (x_45 v (-x_98) v x_97) ^ ((-x_138) v x_66 v x_65) ^ ((-x_104) v (-x_96) v x_113) ^ (x_76 v (-x_19) v (-x_28)) ^ (x_109 v x_8 v x_12) ^ (x_18 v (-x_103) v (-x_122)) ^ ((-x_136) v x_123 v x_108) ^ ((-x_30) v (-x_96) v x_12) ^ ((-x_66) v (-x_82) v x_59) ^ (x_10 v (-x_13) v (-x_120)) ^ (x_8 v (-x_90) v x_42) ^ ((-x_48) v (-x_133) v x_121) ^ ((-x_37) v (-x_37) v x_100) ^ ((-x_92) v x_21 v x_85) ^ (x_80 v (-x_108) v (-x_109)) ^ (x_3 v (-x_64) v x_9) ^ ((-x_102) v (-x_39) v x_126) ^ ((-x_39) v x_37 v x_129) ^ ((-x_113) v (-x_41) v (-x_11)) ^ ((-x_67) v x_11 v x_79) ^ (x_53 v x_133 v x_114) ^ (x_125 v x_18 v x_119) ^ (x_70 v (-x_119) v (-x_132)) ^ (x_61 v (-x_108) v x_23) ^ (x_131 v (-x_125) v x_23) ^ ((-x_86) v (-x_138) v x_89) ^ ((-x_72) v x_38 v x_115) ^ (x_72 v x_34 v (-x_70)) ^ (x_136 v x_100 v (-x_137)) ^ ((-x_31) v x_137 v (-x_3)) ^ (x_61 v x_66 v (-x_40)) ^ ((-x_44) v (-x_130) v (-x_28)) ^ ((-x_16) v x_37 v (-x_72)) ^ (x_49 v (-x_69) v x_12) ^ ((-x_49) v (-x_121) v (-x_79)) ^ ((-x_87) v x_95 v x_68) ^ (x_33 v (-x_64) v (-x_63)) ^ ((-x_118) v x_105 v x_112) ^ (x_27 v (-x_72) v (-x_117)) ^ (x_84 v (-x_8) v (-x_112)) ^ ((-x_133) v (-x_17) v x_82) ^ (x_42 v x_16 v (-x_87)) ^ (x_1 v x_60 v (-x_12)) ^ (x_72 v x_26 v (-x_93)) ^ (x_96 v (-x_138) v x_123) ^ ((-x_102) v (-x_129) v (-x_127)) ^ ((-x_4) v x_109 v x_70) ^ ((-x_112) v (-x_138) v x_111) ^ ((-x_26) v x_34 v (-x_122)) ^ (x_94 v x_17 v x_116) ^ ((-x_18) v (-x_7) v x_68) ^ ((-x_76) v x_75 v (-x_91)) ^ ((-x_115) v (-x_54) v x_133) ^ (x_13 v (-x_121) v x_29) ^ (x_8 v (-x_4) v (-x_51)) ^ (x_130 v (-x_65) v (-x_4)) ^ ((-x_108) v (-x_117) v (-x_20)) ^ ((-x_18) v (-x_80) v x_130) ^ (x_70 v (-x_60) v x_47) ^ ((-x_74) v (-x_41) v x_4) ^ (x_12 v x_108 v (-x_101)) ^ (x_21 v (-x_20) v x_66) ^ ((-x_66) v x_54 v x_86) ^ ((-x_135) v x_32 v (-x_17)) ^ (x_66 v (-x_53) v (-x_114)) ^ (x_124 v x_3 v (-x_41)) ^ (x_40 v x_30 v (-x_17)) ^ (x_136 v (-x_11) v x_45) ^ ((-x_40) v (-x_98) v x_65) ^ ((-x_7) v (-x_108) v x_89) ^ ((-x_114) v x_92 v (-x_20)) ^ ((-x_90) v x_61 v (-x_110))), {'unit_preference': True}]) (kwargs={}) timed out after 30.000000 seconds.\n"
     ]
    }
   ],
   "source": [
    "prop_original = 40\n",
    "test_num = 1\n",
    "prop_num = prop_original\n",
    "clause_num = int(prop_num * 3)\n",
    "formula_file_name = f\"Experiment/formulas/cnf_3_testing.cnf\"\n",
    "data_file_name='Experiment/Data/experiment_unit_preference.csv'\n",
    "#output_tuple_to_csv(('propositions', 'clauses', 'result','DPLL calls','L/N ratio','solve time'),data_file_name)\n",
    "for i in range(16):\n",
    "    print(i)\n",
    "    LN_ratio = (3+i*0.2)\n",
    "    for _ in range(100):\n",
    "        clause_num = int(prop_num * LN_ratio)\n",
    "        create_cnf(prop_num,clause_num,formula_file_name)\n",
    "        formula = read_cnf_file(formula_file_name) \n",
    "        reset_calls()\n",
    "        start = time.time()       \n",
    "        try:\n",
    "            solution = func_timeout.func_timeout(30, tree_solve, [formula, {\"unit_preference\": True}])\n",
    "        except TimeoutError:\n",
    "            prop_num -= 5\n",
    "            clause_num = int(prop_num * LN_ratio)\n",
    "            continue\n",
    "        if solution != 'UNSAT' and not(formula.evaluate(solution)):\n",
    "            output_tuple_to_csv(('****WRONG****'),data_file_name)\n",
    "        else:\n",
    "            end = time.time()\n",
    "            calls = value_calls()\n",
    "            elapsed_time = end - start\n",
    "            output_tuple_to_csv((prop_num,clause_num, formula.evaluate(solution), calls, LN_ratio ,elapsed_time),data_file_name)\n",
    "            prop_num += 2\n",
    "            clause_num = int(prop_num * LN_ratio)"
   ]
  },
  {
   "cell_type": "code",
   "execution_count": 28,
   "metadata": {},
   "outputs": [],
   "source": [
    "formula = read_cnf_file(formula_file_name)\n",
    "solution = func_timeout.func_timeout(30, tree_solve, [formula, {\"unit_preference\": True}])"
   ]
  }
 ],
 "metadata": {
  "kernelspec": {
   "display_name": "ai_env",
   "language": "python",
   "name": "python3"
  },
  "language_info": {
   "codemirror_mode": {
    "name": "ipython",
    "version": 3
   },
   "file_extension": ".py",
   "mimetype": "text/x-python",
   "name": "python",
   "nbconvert_exporter": "python",
   "pygments_lexer": "ipython3",
   "version": "3.7.15"
  },
  "orig_nbformat": 4
 },
 "nbformat": 4,
 "nbformat_minor": 2
}
